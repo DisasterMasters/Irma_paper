{
 "cells": [
  {
   "cell_type": "code",
   "execution_count": 15,
   "metadata": {},
   "outputs": [],
   "source": [
    "import pandas as pd\n",
    "from tqdm import tqdm_notebook as tqdm\n",
    "from pd_doc2vec_threaded import doc2vec"
   ]
  },
  {
   "cell_type": "code",
   "execution_count": 70,
   "metadata": {},
   "outputs": [],
   "source": [
    "df_jokes = pd.read_csv('shortjokes.csv')"
   ]
  },
  {
   "cell_type": "code",
   "execution_count": 71,
   "metadata": {},
   "outputs": [],
   "source": [
    "df_not_jokes = pd.read_csv('tweets.csv')"
   ]
  },
  {
   "cell_type": "code",
   "execution_count": 72,
   "metadata": {},
   "outputs": [
    {
     "data": {
      "text/plain": [
       "Index(['ID', 'Joke'], dtype='object')"
      ]
     },
     "execution_count": 72,
     "metadata": {},
     "output_type": "execute_result"
    }
   ],
   "source": [
    "df_jokes.columns"
   ]
  },
  {
   "cell_type": "code",
   "execution_count": 73,
   "metadata": {},
   "outputs": [
    {
     "data": {
      "text/plain": [
       "231657"
      ]
     },
     "execution_count": 73,
     "metadata": {},
     "output_type": "execute_result"
    }
   ],
   "source": [
    "len(df_jokes)"
   ]
  },
  {
   "cell_type": "code",
   "execution_count": 74,
   "metadata": {},
   "outputs": [
    {
     "data": {
      "text/plain": [
       "597523"
      ]
     },
     "execution_count": 74,
     "metadata": {},
     "output_type": "execute_result"
    }
   ],
   "source": [
    "len(df_not_jokes)"
   ]
  },
  {
   "cell_type": "code",
   "execution_count": 75,
   "metadata": {},
   "outputs": [],
   "source": [
    "df_all_true = pd.DataFrame(columns=['is_joke', 'text'])\n",
    "df_all_false = pd.DataFrame(columns=['is_joke', 'text'])"
   ]
  },
  {
   "cell_type": "code",
   "execution_count": 82,
   "metadata": {},
   "outputs": [],
   "source": [
    "df_not_jokes = df_not_jokes.dropna(subset=['text'])\n",
    "df_not_jokes.reset_index(drop=True, inplace=True)"
   ]
  },
  {
   "cell_type": "code",
   "execution_count": 83,
   "metadata": {},
   "outputs": [
    {
     "name": "stdout",
     "output_type": "stream",
     "text": [
      "231657\n",
      "597497\n",
      "200000\n",
      "200000\n"
     ]
    }
   ],
   "source": [
    "print(len(df_jokes))\n",
    "print(len(df_not_jokes))\n",
    "df_jokes_tmp = df_jokes.truncate(after=199999, copy=True)\n",
    "df_not_jokes_tmp = df_not_jokes.truncate(after=199999, copy=True)\n",
    "print(len(df_jokes_tmp))\n",
    "print(len(df_not_jokes_tmp))"
   ]
  },
  {
   "cell_type": "code",
   "execution_count": 84,
   "metadata": {},
   "outputs": [],
   "source": [
    "l = [1]*200000\n",
    "df_all_true['is_joke'] = pd.Series(l)\n",
    "df_all_true['text'] = df_jokes_tmp['Joke']"
   ]
  },
  {
   "cell_type": "code",
   "execution_count": 85,
   "metadata": {},
   "outputs": [],
   "source": [
    "l = [0]*200000\n",
    "df_all_false['is_joke'] = pd.Series(l)\n",
    "df_all_false['text'] = df_not_jokes_tmp['text']"
   ]
  },
  {
   "cell_type": "code",
   "execution_count": 86,
   "metadata": {},
   "outputs": [
    {
     "name": "stdout",
     "output_type": "stream",
     "text": [
      "93.039655\n",
      "111.17468\n"
     ]
    }
   ],
   "source": [
    "strings = list(df_all_true['text'])\n",
    "total_avg = sum( map(len, strings)) / len(strings)\n",
    "print(total_avg)\n",
    "\n",
    "strings = list(df_all_false['text'])\n",
    "total_avg = sum( map(len, strings)) / len(strings)\n",
    "print(total_avg)"
   ]
  },
  {
   "cell_type": "code",
   "execution_count": 87,
   "metadata": {},
   "outputs": [],
   "source": [
    "df_all = pd.concat([df_all_true, df_all_false])\n",
    "df_all.reset_index(drop=True, inplace=True)"
   ]
  },
  {
   "cell_type": "code",
   "execution_count": 88,
   "metadata": {},
   "outputs": [
    {
     "name": "stdout",
     "output_type": "stream",
     "text": [
      "400000\n",
      "Index(['is_joke', 'text'], dtype='object')\n"
     ]
    }
   ],
   "source": [
    "print(len(df_all))\n",
    "print(df_all.columns)"
   ]
  },
  {
   "cell_type": "code",
   "execution_count": 89,
   "metadata": {},
   "outputs": [
    {
     "data": {
      "text/html": [
       "<div>\n",
       "<style scoped>\n",
       "    .dataframe tbody tr th:only-of-type {\n",
       "        vertical-align: middle;\n",
       "    }\n",
       "\n",
       "    .dataframe tbody tr th {\n",
       "        vertical-align: top;\n",
       "    }\n",
       "\n",
       "    .dataframe thead th {\n",
       "        text-align: right;\n",
       "    }\n",
       "</style>\n",
       "<table border=\"1\" class=\"dataframe\">\n",
       "  <thead>\n",
       "    <tr style=\"text-align: right;\">\n",
       "      <th></th>\n",
       "      <th>is_joke</th>\n",
       "      <th>text</th>\n",
       "    </tr>\n",
       "  </thead>\n",
       "  <tbody>\n",
       "    <tr>\n",
       "      <th>0</th>\n",
       "      <td>1</td>\n",
       "      <td>[me narrating a documentary about narrators] \"...</td>\n",
       "    </tr>\n",
       "    <tr>\n",
       "      <th>1</th>\n",
       "      <td>1</td>\n",
       "      <td>Telling my daughter garlic is good for you. Go...</td>\n",
       "    </tr>\n",
       "    <tr>\n",
       "      <th>2</th>\n",
       "      <td>1</td>\n",
       "      <td>I've been going through a really rough period ...</td>\n",
       "    </tr>\n",
       "    <tr>\n",
       "      <th>3</th>\n",
       "      <td>1</td>\n",
       "      <td>If I could have dinner with anyone, dead or al...</td>\n",
       "    </tr>\n",
       "    <tr>\n",
       "      <th>4</th>\n",
       "      <td>1</td>\n",
       "      <td>Two guys walk into a bar. The third guy ducks.</td>\n",
       "    </tr>\n",
       "    <tr>\n",
       "      <th>5</th>\n",
       "      <td>1</td>\n",
       "      <td>Why can't Barbie get pregnant? Because Ken com...</td>\n",
       "    </tr>\n",
       "    <tr>\n",
       "      <th>6</th>\n",
       "      <td>1</td>\n",
       "      <td>Why was the musician arrested? He got in treble.</td>\n",
       "    </tr>\n",
       "    <tr>\n",
       "      <th>7</th>\n",
       "      <td>1</td>\n",
       "      <td>Did you hear about the guy who blew his entire...</td>\n",
       "    </tr>\n",
       "    <tr>\n",
       "      <th>8</th>\n",
       "      <td>1</td>\n",
       "      <td>What do you do if a bird shits on your car? Do...</td>\n",
       "    </tr>\n",
       "    <tr>\n",
       "      <th>9</th>\n",
       "      <td>1</td>\n",
       "      <td>He was a real gentlemen and always opened the ...</td>\n",
       "    </tr>\n",
       "  </tbody>\n",
       "</table>\n",
       "</div>"
      ],
      "text/plain": [
       "   is_joke                                               text\n",
       "0        1  [me narrating a documentary about narrators] \"...\n",
       "1        1  Telling my daughter garlic is good for you. Go...\n",
       "2        1  I've been going through a really rough period ...\n",
       "3        1  If I could have dinner with anyone, dead or al...\n",
       "4        1     Two guys walk into a bar. The third guy ducks.\n",
       "5        1  Why can't Barbie get pregnant? Because Ken com...\n",
       "6        1   Why was the musician arrested? He got in treble.\n",
       "7        1  Did you hear about the guy who blew his entire...\n",
       "8        1  What do you do if a bird shits on your car? Do...\n",
       "9        1  He was a real gentlemen and always opened the ..."
      ]
     },
     "execution_count": 89,
     "metadata": {},
     "output_type": "execute_result"
    }
   ],
   "source": [
    "df_all.head(10)"
   ]
  },
  {
   "cell_type": "code",
   "execution_count": 90,
   "metadata": {},
   "outputs": [
    {
     "data": {
      "text/html": [
       "<div>\n",
       "<style scoped>\n",
       "    .dataframe tbody tr th:only-of-type {\n",
       "        vertical-align: middle;\n",
       "    }\n",
       "\n",
       "    .dataframe tbody tr th {\n",
       "        vertical-align: top;\n",
       "    }\n",
       "\n",
       "    .dataframe thead th {\n",
       "        text-align: right;\n",
       "    }\n",
       "</style>\n",
       "<table border=\"1\" class=\"dataframe\">\n",
       "  <thead>\n",
       "    <tr style=\"text-align: right;\">\n",
       "      <th></th>\n",
       "      <th>is_joke</th>\n",
       "      <th>text</th>\n",
       "    </tr>\n",
       "  </thead>\n",
       "  <tbody>\n",
       "    <tr>\n",
       "      <th>399990</th>\n",
       "      <td>0</td>\n",
       "      <td>Officials: I-75 to stay open; 1 shelter remain...</td>\n",
       "    </tr>\n",
       "    <tr>\n",
       "      <th>399991</th>\n",
       "      <td>0</td>\n",
       "      <td>.@AlachuaSheriff responding to reported shooti...</td>\n",
       "    </tr>\n",
       "    <tr>\n",
       "      <th>399992</th>\n",
       "      <td>0</td>\n",
       "      <td>If you don't have power you can still watch ou...</td>\n",
       "    </tr>\n",
       "    <tr>\n",
       "      <th>399993</th>\n",
       "      <td>0</td>\n",
       "      <td>Alachua County schools will be open Monday, di...</td>\n",
       "    </tr>\n",
       "    <tr>\n",
       "      <th>399994</th>\n",
       "      <td>0</td>\n",
       "      <td>More than 1,500 GRU customers without power in...</td>\n",
       "    </tr>\n",
       "    <tr>\n",
       "      <th>399995</th>\n",
       "      <td>0</td>\n",
       "      <td>Ocala man arrested in January crash that kille...</td>\n",
       "    </tr>\n",
       "    <tr>\n",
       "      <th>399996</th>\n",
       "      <td>0</td>\n",
       "      <td>Florida Highway officials allowing motorists t...</td>\n",
       "    </tr>\n",
       "    <tr>\n",
       "      <th>399997</th>\n",
       "      <td>0</td>\n",
       "      <td>Man charged with DUI after @GainesvillePD car ...</td>\n",
       "    </tr>\n",
       "    <tr>\n",
       "      <th>399998</th>\n",
       "      <td>0</td>\n",
       "      <td>#Gainesville residents honoring local hero #To...</td>\n",
       "    </tr>\n",
       "    <tr>\n",
       "      <th>399999</th>\n",
       "      <td>0</td>\n",
       "      <td>Tolls lifted on Florida toll roads indefinitel...</td>\n",
       "    </tr>\n",
       "  </tbody>\n",
       "</table>\n",
       "</div>"
      ],
      "text/plain": [
       "        is_joke                                               text\n",
       "399990        0  Officials: I-75 to stay open; 1 shelter remain...\n",
       "399991        0  .@AlachuaSheriff responding to reported shooti...\n",
       "399992        0  If you don't have power you can still watch ou...\n",
       "399993        0  Alachua County schools will be open Monday, di...\n",
       "399994        0  More than 1,500 GRU customers without power in...\n",
       "399995        0  Ocala man arrested in January crash that kille...\n",
       "399996        0  Florida Highway officials allowing motorists t...\n",
       "399997        0  Man charged with DUI after @GainesvillePD car ...\n",
       "399998        0  #Gainesville residents honoring local hero #To...\n",
       "399999        0  Tolls lifted on Florida toll roads indefinitel..."
      ]
     },
     "execution_count": 90,
     "metadata": {},
     "output_type": "execute_result"
    }
   ],
   "source": [
    "df_all.tail(10)"
   ]
  },
  {
   "cell_type": "code",
   "execution_count": 91,
   "metadata": {},
   "outputs": [
    {
     "name": "stdout",
     "output_type": "stream",
     "text": [
      "is_joke\n"
     ]
    },
    {
     "name": "stderr",
     "output_type": "stream",
     "text": [
      " 99%|█████████▉| 19757/20000 [16:14<00:10, 22.50it/s]\n",
      "100%|██████████| 20000/20000 [16:24<00:00, 20.31it/s]\n",
      " 79%|███████▉  | 15886/20000 [15:42<04:04, 16.85it/s]\n",
      "100%|██████████| 20000/20000 [16:30<00:00, 20.19it/s]\n",
      "100%|██████████| 20000/20000 [19:01<00:00, 17.52it/s]\n",
      "100%|██████████| 20000/20000 [19:22<00:00, 17.21it/s]\n",
      "100%|██████████| 20000/20000 [19:16<00:00, 21.53it/s]\n",
      "100%|█████████▉| 19922/20000 [19:15<00:02, 26.62it/s]\n",
      "100%|██████████| 20000/20000 [19:18<00:00, 27.55it/s]\n",
      "100%|██████████| 20000/20000 [19:09<00:00, 28.87it/s]\n",
      "100%|██████████| 10/10 [25:57<00:00, 155.72s/it]\n"
     ]
    },
    {
     "name": "stdout",
     "output_type": "stream",
     "text": [
      "Best Accuracy: 0.9442\n",
      "Labeled F1 Score: \n",
      "Tag  F1 Score  Recall Score  Precision Score\n",
      "0.0  0.943579      0.928557         0.959096\n",
      "1.0  0.944807      0.960000         0.930088\n",
      "\n"
     ]
    },
    {
     "data": {
      "image/png": "[encoded data removed]",
      "text/plain": [
       "<Figure size 432x288 with 2 Axes>"
      ]
     },
     "metadata": {
      "needs_background": "light"
     },
     "output_type": "display_data"
    },
    {
     "data": {
      "image/png": "[encoded data removed]",
      "text/plain": [
       "<Figure size 432x288 with 2 Axes>"
      ]
     },
     "metadata": {
      "needs_background": "light"
     },
     "output_type": "display_data"
    },
    {
     "data": {
      "text/plain": [
       "[   Tag  F1 Score  Recall Score  Precision Score\n",
       " 0  0.0  0.943579      0.928557         0.959096\n",
       " 1  1.0  0.944807      0.960000         0.930088, 0.9442]"
      ]
     },
     "execution_count": 91,
     "metadata": {},
     "output_type": "execute_result"
    }
   ],
   "source": [
    "d2v = doc2vec(df_all, 'text', ['is_joke'])\n",
    "d2v.score(verbose=True, iterations=10)"
   ]
  },
  {
   "cell_type": "code",
   "execution_count": 131,
   "metadata": {},
   "outputs": [
    {
     "data": {
      "text/plain": [
       "['1.0']"
      ]
     },
     "execution_count": 131,
     "metadata": {},
     "output_type": "execute_result"
    }
   ],
   "source": [
    "d2v.predict_text('Why do computer scientists always confuse Halloween and Christmas? Because 31 Oct = 25 Dec.')"
   ]
  },
  {
   "cell_type": "code",
   "execution_count": 141,
   "metadata": {},
   "outputs": [
    {
     "data": {
      "text/plain": [
       "['0.0']"
      ]
     },
     "execution_count": 141,
     "metadata": {},
     "output_type": "execute_result"
    }
   ],
   "source": [
    "d2v.predict_text('This  video is a great way to learn about python, pandas, doc2vec and tqdm.')"
   ]
  },
  {
   "cell_type": "code",
   "execution_count": 142,
   "metadata": {},
   "outputs": [
    {
     "data": {
      "text/plain": [
       "['1.0']"
      ]
     },
     "execution_count": 142,
     "metadata": {},
     "output_type": "execute_result"
    }
   ],
   "source": [
    "d2v.predict_text('There are only 10 kinds of people in this world: those who know binary and those who don’t.')"
   ]
  },
  {
   "cell_type": "code",
   "execution_count": null,
   "metadata": {},
   "outputs": [],
   "source": []
  }
 ],
 "metadata": {
  "kernelspec": {
   "display_name": "Python 3",
   "language": "python",
   "name": "python3"
  },
  "language_info": {
   "codemirror_mode": {
    "name": "ipython",
    "version": 3
   },
   "file_extension": ".py",
   "mimetype": "text/x-python",
   "name": "python",
   "nbconvert_exporter": "python",
   "pygments_lexer": "ipython3",
   "version": "3.6.7"
  }
 },
 "nbformat": 4,
 "nbformat_minor": 2
}
